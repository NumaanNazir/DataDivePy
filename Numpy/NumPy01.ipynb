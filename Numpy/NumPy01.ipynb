{
 "cells": [
  {
   "cell_type": "markdown",
   "id": "373e1d5d-9828-4f34-ab8b-241faf1128c3",
   "metadata": {},
   "source": [
    "                                            ARRAYS AND ARANGE FUNCTION"
   ]
  },
  {
   "cell_type": "code",
   "execution_count": 1,
   "id": "646b2178-0d42-47b8-8339-27e14d4309e8",
   "metadata": {},
   "outputs": [
    {
     "name": "stdout",
     "output_type": "stream",
     "text": [
      "[ 0  2  4  6  8 10]\n"
     ]
    }
   ],
   "source": [
    "# Numpy arrays and arange function .\n",
    "\n",
    "#  ARRAYS\n",
    "\n",
    "import numpy as np\n",
    "\n",
    "x=np.array([0,2,4,6,8,10])\n",
    "\n",
    "print(x)\n",
    "\n"
   ]
  },
  {
   "cell_type": "code",
   "execution_count": 2,
   "id": "380f9148-5346-44f2-9cd0-6200c2cf9628",
   "metadata": {},
   "outputs": [
    {
     "name": "stdout",
     "output_type": "stream",
     "text": [
      "[ 1  2  3  4  5  6  7  8  9 10 11 12 13 14 15 16 17 18 19 20]\n"
     ]
    }
   ],
   "source": [
    "# Arange\n",
    "\n",
    "z=np.arange(1,21)\n",
    "\n",
    "print(z)\n",
    "\n"
   ]
  },
  {
   "cell_type": "code",
   "execution_count": 4,
   "id": "ce917499-ae74-45f6-ab4b-603e1fd0062d",
   "metadata": {},
   "outputs": [
    {
     "name": "stdout",
     "output_type": "stream",
     "text": [
      "[ 0  2  4  6  8 10 12 14 16 18 20]\n"
     ]
    }
   ],
   "source": [
    "\n",
    "#Arange with Steps\n",
    "\n",
    "z_1=np.arange(0,21,2)\n",
    "\n",
    "print(z_1)"
   ]
  },
  {
   "cell_type": "code",
   "execution_count": null,
   "id": "2bce11c1-b2a3-421d-a252-4edaa645fcc2",
   "metadata": {},
   "outputs": [],
   "source": []
  }
 ],
 "metadata": {
  "kernelspec": {
   "display_name": "Python 3 (ipykernel)",
   "language": "python",
   "name": "python3"
  },
  "language_info": {
   "codemirror_mode": {
    "name": "ipython",
    "version": 3
   },
   "file_extension": ".py",
   "mimetype": "text/x-python",
   "name": "python",
   "nbconvert_exporter": "python",
   "pygments_lexer": "ipython3",
   "version": "3.12.0"
  }
 },
 "nbformat": 4,
 "nbformat_minor": 5
}
