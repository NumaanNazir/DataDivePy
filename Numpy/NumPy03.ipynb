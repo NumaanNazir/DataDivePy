{
 "cells": [
  {
   "cell_type": "code",
   "execution_count": 4,
   "id": "55e4aac5-704c-4bbf-ac1d-a57470571d04",
   "metadata": {},
   "outputs": [
    {
     "data": {
      "text/plain": [
       "array([10, 20, 30, 40, 50, 60, 70, 80, 90])"
      ]
     },
     "execution_count": 4,
     "metadata": {},
     "output_type": "execute_result"
    }
   ],
   "source": [
    "#SUB ARRAYS\n",
    "import numpy as np\n",
    "np.arange(10,100,10)"
   ]
  },
  {
   "cell_type": "code",
   "execution_count": 5,
   "id": "ba6bb187-cbd1-4616-892b-6e6bc06de467",
   "metadata": {},
   "outputs": [
    {
     "name": "stdout",
     "output_type": "stream",
     "text": [
      "[ 3  7 11 15 19 23 27]\n"
     ]
    }
   ],
   "source": [
    "#SCALAR ADDITION\n",
    "a=np.array([2,4,6,8,10,12,14])\n",
    "b=np.array([1,3,5,7,9,11,13])\n",
    "print(a+b)"
   ]
  },
  {
   "cell_type": "code",
   "execution_count": 6,
   "id": "f1dd4c11-bc36-46be-977e-0af895e15d44",
   "metadata": {},
   "outputs": [
    {
     "name": "stdout",
     "output_type": "stream",
     "text": [
      "[1 1 1 1 1 1 1]\n"
     ]
    }
   ],
   "source": [
    "#SCALAR SUBTRACTION\n",
    "a=np.array([2,4,6,8,10,12,14])\n",
    "b=np.array([1,3,5,7,9,11,13])\n",
    "print(a-b)"
   ]
  },
  {
   "cell_type": "code",
   "execution_count": 7,
   "id": "94215e84-2cac-4e8f-98b1-6df2355e8dab",
   "metadata": {},
   "outputs": [
    {
     "name": "stdout",
     "output_type": "stream",
     "text": [
      "[  2  12  30  56  90 132 182]\n"
     ]
    }
   ],
   "source": [
    "#SCALAR MULTIPLICATION\n",
    "a=np.array([2,4,6,8,10,12,14])\n",
    "b=np.array([1,3,5,7,9,11,13])\n",
    "print(a*b)"
   ]
  },
  {
   "cell_type": "code",
   "execution_count": 8,
   "id": "045fc1bd-e981-42cd-8e69-b47e038f1a4a",
   "metadata": {},
   "outputs": [
    {
     "name": "stdout",
     "output_type": "stream",
     "text": [
      "[  2  12  30  56  90 132 182]\n"
     ]
    }
   ],
   "source": [
    "#SCALAR DIVISION\n",
    "a=np.array([2,4,6,8,10,12,14])\n",
    "b=np.array([1,3,5,7,9,11,13])\n",
    "print(a*b)"
   ]
  },
  {
   "cell_type": "markdown",
   "id": "3290bd39-cd67-4835-bd41-f22eb82b878f",
   "metadata": {},
   "source": []
  }
 ],
 "metadata": {
  "kernelspec": {
   "display_name": "Python 3 (ipykernel)",
   "language": "python",
   "name": "python3"
  },
  "language_info": {
   "codemirror_mode": {
    "name": "ipython",
    "version": 3
   },
   "file_extension": ".py",
   "mimetype": "text/x-python",
   "name": "python",
   "nbconvert_exporter": "python",
   "pygments_lexer": "ipython3",
   "version": "3.12.0"
  }
 },
 "nbformat": 4,
 "nbformat_minor": 5
}
