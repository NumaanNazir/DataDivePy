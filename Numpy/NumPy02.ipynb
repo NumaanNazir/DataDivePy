{
 "cells": [
  {
   "cell_type": "code",
   "execution_count": 1,
   "id": "7b1dbdfd-58f0-4f30-9e98-09cab90795b1",
   "metadata": {},
   "outputs": [
    {
     "name": "stdout",
     "output_type": "stream",
     "text": [
      "[0.  0.2 0.4 0.6 0.8 1. ]\n"
     ]
    }
   ],
   "source": [
    "import numpy as np\n",
    "#LINSPACE\n",
    "\n",
    "x=np.linspace(0,1,6)\n",
    "print (x)\n"
   ]
  },
  {
   "cell_type": "code",
   "execution_count": 5,
   "id": "22329094-d208-4d66-9e5e-bd0dbfa3ef68",
   "metadata": {},
   "outputs": [
    {
     "name": "stdout",
     "output_type": "stream",
     "text": [
      "[[1. 1. 1.]\n",
      " [1. 1. 1.]\n",
      " [1. 1. 1.]]\n"
     ]
    }
   ],
   "source": [
    "\n",
    "#ONES\n",
    "\n",
    "y=np.ones([3,3])\n",
    "print(y)\n"
   ]
  },
  {
   "cell_type": "code",
   "execution_count": 6,
   "id": "7b98f1cb-15e8-4cf7-b24a-5a0c0d8cf909",
   "metadata": {},
   "outputs": [
    {
     "name": "stdout",
     "output_type": "stream",
     "text": [
      "[[0. 0. 0.]\n",
      " [0. 0. 0.]]\n"
     ]
    }
   ],
   "source": [
    "#Zeroes\n",
    "\n",
    "z=np.zeros([2,3])\n",
    "print(z)\n",
    "\n"
   ]
  },
  {
   "cell_type": "code",
   "execution_count": null,
   "id": "304c4ef1-690d-4908-816f-692a2c9e3b05",
   "metadata": {},
   "outputs": [],
   "source": [
    "\n",
    "#Eye\n",
    "\n",
    "xx=np.eye(3,3)\n",
    "print(xx)\n",
    "\n",
    "#Diagonal\n",
    "\n",
    "yy=np.diag([1,2,3,4])\n",
    "print(yy)"
   ]
  }
 ],
 "metadata": {
  "kernelspec": {
   "display_name": "Python 3 (ipykernel)",
   "language": "python",
   "name": "python3"
  },
  "language_info": {
   "codemirror_mode": {
    "name": "ipython",
    "version": 3
   },
   "file_extension": ".py",
   "mimetype": "text/x-python",
   "name": "python",
   "nbconvert_exporter": "python",
   "pygments_lexer": "ipython3",
   "version": "3.12.0"
  }
 },
 "nbformat": 4,
 "nbformat_minor": 5
}
