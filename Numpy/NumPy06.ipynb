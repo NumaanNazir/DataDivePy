{
 "cells": [
  {
   "cell_type": "markdown",
   "id": "52addbaf-4148-4b7d-b161-9c32f1034e24",
   "metadata": {},
   "source": [
    "                                                 BROADCASTING"
   ]
  },
  {
   "cell_type": "code",
   "execution_count": 3,
   "id": "4d641c67-623b-48e5-be7a-8d7ef4d4ff44",
   "metadata": {},
   "outputs": [
    {
     "name": "stdout",
     "output_type": "stream",
     "text": [
      "[1 2 3]\n"
     ]
    }
   ],
   "source": [
    "#HOW TO CREATE 1-D ARRAY\n",
    "import numpy as np\n",
    "\n",
    "x=np.array([1,2,3])\n",
    "\n",
    "print(x)"
   ]
  },
  {
   "cell_type": "code",
   "execution_count": 4,
   "id": "8e0485eb-2d95-4a67-a68e-04c16987585a",
   "metadata": {},
   "outputs": [
    {
     "name": "stdout",
     "output_type": "stream",
     "text": [
      "[[1 2 3]\n",
      " [4 5 6]]\n"
     ]
    }
   ],
   "source": [
    "# HOW TO CREATE 2-D MATRIX\n",
    "\n",
    "y=np.array([[1,2,3],[4,5,6]])\n",
    "\n",
    "print(y)"
   ]
  },
  {
   "cell_type": "code",
   "execution_count": 6,
   "id": "575dab62-4a36-4766-8917-88276e08d33e",
   "metadata": {},
   "outputs": [
    {
     "name": "stdout",
     "output_type": "stream",
     "text": [
      "[[1 2 3]\n",
      " [4 5 6]\n",
      " [7 8 9]]\n"
     ]
    }
   ],
   "source": [
    "# HOW TO CREATE 3-D MATRIX\n",
    "\n",
    "z=np.array([[1,2,3],[4,5,6],[7,8,9]])\n",
    "\n",
    "print(z)"
   ]
  },
  {
   "cell_type": "code",
   "execution_count": 7,
   "id": "12590572-8fd1-44ff-a858-c24956189776",
   "metadata": {},
   "outputs": [
    {
     "name": "stdout",
     "output_type": "stream",
     "text": [
      "[[ 1  2  3]\n",
      " [11 11 11]\n",
      " [22 22 22]\n",
      " [33 33 33]]\n"
     ]
    }
   ],
   "source": [
    "#BROADCASTING\n",
    "\n",
    "a=np.array([[0,0,0],[10,10,10],[20,20,20],[30,30,30]])\n",
    "\n",
    "b=np.array([[1,2,3],[1,1,1],[2,2,2],[3,3,3]])\n",
    "\n",
    "print(a+b)\n",
    "\n",
    "#ELEMENT WISE ADDOTION"
   ]
  },
  {
   "cell_type": "code",
   "execution_count": 15,
   "id": "951fac99-4dde-4796-9b73-7dc45c8f85e3",
   "metadata": {},
   "outputs": [
    {
     "name": "stdout",
     "output_type": "stream",
     "text": [
      "Z= [[1 2 3]\n",
      " [4 5 6]\n",
      " [7 8 9]]\n",
      "X= [1 2 3]\n",
      "[[ 2  4  6]\n",
      " [ 5  7  9]\n",
      " [ 8 10 12]]\n"
     ]
    }
   ],
   "source": [
    "# NOW 3X3 + 1X3\n",
    "\n",
    "z=np.array([[1,2,3],[4,5,6],[7,8,9]])\n",
    "\n",
    "x=np.array([1,2,3])\n",
    "\n",
    "print(\"Z=\",z)\n",
    "\n",
    "\n",
    "print(\"X=\",x)\n",
    "\n",
    "print(z+x)     #i.e it'll replicate the remainning rows with given first row"
   ]
  },
  {
   "cell_type": "code",
   "execution_count": 21,
   "id": "5f7ae2a5-2dc6-4d70-a813-6d8a80b59403",
   "metadata": {},
   "outputs": [
    {
     "name": "stdout",
     "output_type": "stream",
     "text": [
      "[[ 0]\n",
      " [10]\n",
      " [20]\n",
      " [30]]\n",
      "[1 2 3]\n",
      "[[ 1  2  3]\n",
      " [11 12 13]\n",
      " [21 22 23]\n",
      " [31 32 33]]\n"
     ]
    }
   ],
   "source": [
    "#NOW 4X1 + 1X3\n",
    "\n",
    "o=np.array([[0],[10],[20],[30]])\n",
    "\n",
    "p=np.array([1,2,3])\n",
    "\n",
    "print(o)\n",
    "print(p)\n",
    "\n",
    "print(o+p)     "
   ]
  },
  {
   "cell_type": "code",
   "execution_count": 23,
   "id": "41d86bc4-4065-4da0-ac69-43b716e591ec",
   "metadata": {},
   "outputs": [
    {
     "name": "stdout",
     "output_type": "stream",
     "text": [
      "[[ 0 20 40 60 80]\n",
      " [ 0 20 40 60 80]\n",
      " [ 0 20 40 60 80]]\n"
     ]
    }
   ],
   "source": [
    "#TILE F'n\n",
    "\n",
    "data=np.tile(np.arange(0,100,20) ,(3,1))\n",
    "\n",
    "print(data)"
   ]
  },
  {
   "cell_type": "code",
   "execution_count": 25,
   "id": "b74c937a-6519-4efb-b3df-4af166342c80",
   "metadata": {},
   "outputs": [
    {
     "name": "stdout",
     "output_type": "stream",
     "text": [
      "[[ 0 20 40 60 80  0 20 40 60 80]\n",
      " [ 0 20 40 60 80  0 20 40 60 80]\n",
      " [ 0 20 40 60 80  0 20 40 60 80]]\n"
     ]
    }
   ],
   "source": [
    "data1=np.tile(np.arange(0,100,20) ,(3,2))\n",
    "\n",
    "print(data1)"
   ]
  },
  {
   "cell_type": "code",
   "execution_count": 26,
   "id": "257d0e4f-7767-4331-ab44-1705fdbd61d0",
   "metadata": {},
   "outputs": [
    {
     "data": {
      "text/plain": [
       "(3, 5)"
      ]
     },
     "execution_count": 26,
     "metadata": {},
     "output_type": "execute_result"
    }
   ],
   "source": [
    "#Shape\n",
    "data=np.tile(np.arange(0,100,20) ,(3,1))\n",
    "data.shape"
   ]
  },
  {
   "cell_type": "code",
   "execution_count": null,
   "id": "471dbe76-712c-4450-9bc2-6a10616b9835",
   "metadata": {},
   "outputs": [],
   "source": []
  }
 ],
 "metadata": {
  "kernelspec": {
   "display_name": "Python 3 (ipykernel)",
   "language": "python",
   "name": "python3"
  },
  "language_info": {
   "codemirror_mode": {
    "name": "ipython",
    "version": 3
   },
   "file_extension": ".py",
   "mimetype": "text/x-python",
   "name": "python",
   "nbconvert_exporter": "python",
   "pygments_lexer": "ipython3",
   "version": "3.12.0"
  }
 },
 "nbformat": 4,
 "nbformat_minor": 5
}
