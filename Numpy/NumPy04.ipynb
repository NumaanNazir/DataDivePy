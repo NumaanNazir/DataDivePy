{
 "cells": [
  {
   "cell_type": "markdown",
   "id": "c6b68f1a-d113-4192-89f1-c914619c4297",
   "metadata": {},
   "source": [
    "                                                    Transcendental functions"
   ]
  },
  {
   "cell_type": "code",
   "execution_count": 12,
   "id": "d435e43f-4f4c-478f-8da6-e54811b78c00",
   "metadata": {},
   "outputs": [
    {
     "name": "stdout",
     "output_type": "stream",
     "text": [
      "[  1  30  60  90 180]\n"
     ]
    }
   ],
   "source": [
    "import numpy as np\n",
    "x=np.array([1,30,60,90,180])\n",
    "print(x)"
   ]
  },
  {
   "cell_type": "code",
   "execution_count": 13,
   "id": "6a93bb90-3220-4c6b-bef6-1aede1a22126",
   "metadata": {},
   "outputs": [
    {
     "data": {
      "text/plain": [
       "array([ 0.84147098, -0.98803162, -0.30481062,  0.89399666, -0.80115264])"
      ]
     },
     "execution_count": 13,
     "metadata": {},
     "output_type": "execute_result"
    }
   ],
   "source": [
    "# SIN f'n\n",
    "np.sin(x)"
   ]
  },
  {
   "cell_type": "code",
   "execution_count": 14,
   "id": "ef246970-3b0e-4e9b-aa49-620f02ffb26e",
   "metadata": {},
   "outputs": [
    {
     "data": {
      "text/plain": [
       "array([0.        , 3.40119738, 4.09434456, 4.49980967, 5.19295685])"
      ]
     },
     "execution_count": 14,
     "metadata": {},
     "output_type": "execute_result"
    }
   ],
   "source": [
    "#LOG  f'n\n",
    "np.log(x)"
   ]
  },
  {
   "cell_type": "code",
   "execution_count": 15,
   "id": "354e67b8-af39-4a4d-b847-02a3ff67f42e",
   "metadata": {},
   "outputs": [
    {
     "data": {
      "text/plain": [
       "array([ 0.54030231,  0.15425145, -0.95241298, -0.44807362, -0.59846007])"
      ]
     },
     "execution_count": 15,
     "metadata": {},
     "output_type": "execute_result"
    }
   ],
   "source": [
    "# COS f'n\n",
    "np.cos(x)"
   ]
  },
  {
   "cell_type": "code",
   "execution_count": 16,
   "id": "73ee6b00-aa22-4037-ad9d-a8922a0ea8cf",
   "metadata": {},
   "outputs": [
    {
     "data": {
      "text/plain": [
       "array([ 1.55740772, -6.4053312 ,  0.32004039, -1.99520041,  1.33869021])"
      ]
     },
     "execution_count": 16,
     "metadata": {},
     "output_type": "execute_result"
    }
   ],
   "source": [
    "#TAN f'n\n",
    "np.tan(x)"
   ]
  },
  {
   "cell_type": "code",
   "execution_count": 17,
   "id": "4cab1471-801b-44ca-aad1-fb333ab2d370",
   "metadata": {},
   "outputs": [
    {
     "data": {
      "text/plain": [
       "array([2.71828183e+00, 1.06864746e+13, 1.14200739e+26, 1.22040329e+39,\n",
       "       1.48938420e+78])"
      ]
     },
     "execution_count": 17,
     "metadata": {},
     "output_type": "execute_result"
    }
   ],
   "source": [
    "#EXP  F'n\n",
    "np.exp(x)"
   ]
  },
  {
   "cell_type": "code",
   "execution_count": 18,
   "id": "0d15a3d2-be0c-49b2-8387-fe8575bbb7f7",
   "metadata": {},
   "outputs": [
    {
     "data": {
      "text/plain": [
       "361"
      ]
     },
     "execution_count": 18,
     "metadata": {},
     "output_type": "execute_result"
    }
   ],
   "source": [
    "#SUM F'n\n",
    "np.sum(x)"
   ]
  },
  {
   "cell_type": "code",
   "execution_count": 19,
   "id": "88df95b7-e61d-4dc0-9a85-cf3f6beffc31",
   "metadata": {},
   "outputs": [
    {
     "data": {
      "text/plain": [
       "180"
      ]
     },
     "execution_count": 19,
     "metadata": {},
     "output_type": "execute_result"
    }
   ],
   "source": [
    "#MAX f'n\n",
    "np.max(x)"
   ]
  },
  {
   "cell_type": "code",
   "execution_count": 23,
   "id": "3c3632e1-60a5-45fd-9847-06f73cb08c5a",
   "metadata": {},
   "outputs": [
    {
     "data": {
      "text/plain": [
       "1"
      ]
     },
     "execution_count": 23,
     "metadata": {},
     "output_type": "execute_result"
    }
   ],
   "source": [
    "#MIN f'n\n",
    "np.min(x)"
   ]
  },
  {
   "cell_type": "code",
   "execution_count": null,
   "id": "7940b7e4-fbf4-4a1c-8993-aa55c7306073",
   "metadata": {},
   "outputs": [],
   "source": []
  }
 ],
 "metadata": {
  "kernelspec": {
   "display_name": "Python 3 (ipykernel)",
   "language": "python",
   "name": "python3"
  },
  "language_info": {
   "codemirror_mode": {
    "name": "ipython",
    "version": 3
   },
   "file_extension": ".py",
   "mimetype": "text/x-python",
   "name": "python",
   "nbconvert_exporter": "python",
   "pygments_lexer": "ipython3",
   "version": "3.12.0"
  }
 },
 "nbformat": 4,
 "nbformat_minor": 5
}
