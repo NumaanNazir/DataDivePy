{
 "cells": [
  {
   "cell_type": "markdown",
   "id": "7e852e3a-ea94-4686-b194-1f57565ff897",
   "metadata": {},
   "source": [
    "                                                  Transcendental functions"
   ]
  },
  {
   "cell_type": "code",
   "execution_count": 2,
   "id": "44a5d31a-b3a0-4c97-99cd-d942baa3fbd8",
   "metadata": {},
   "outputs": [],
   "source": [
    "import numpy as np\n",
    "\n",
    "x=np.array([2,4,1,6,3,9,66,32,12])\n"
   ]
  },
  {
   "cell_type": "code",
   "execution_count": 4,
   "id": "aac96c3e-8ebf-4322-9d49-09f062f41b1b",
   "metadata": {},
   "outputs": [
    {
     "name": "stdout",
     "output_type": "stream",
     "text": [
      "[ 2  4  1  6  3  9 66 32 12]\n"
     ]
    }
   ],
   "source": [
    "print(x)"
   ]
  },
  {
   "cell_type": "code",
   "execution_count": 5,
   "id": "a58cb3c9-fae8-4623-b1c5-0ad2bf48613c",
   "metadata": {},
   "outputs": [
    {
     "data": {
      "text/plain": [
       "6"
      ]
     },
     "execution_count": 5,
     "metadata": {},
     "output_type": "execute_result"
    }
   ],
   "source": [
    "#ARGMAX                >>  \"Argmax returns the index of the maximum value in an array \"\n",
    "np.argmax(x)"
   ]
  },
  {
   "cell_type": "code",
   "execution_count": 6,
   "id": "d8e1ab2d-9376-4891-949f-7a326d117da8",
   "metadata": {},
   "outputs": [
    {
     "data": {
      "text/plain": [
       "2"
      ]
     },
     "execution_count": 6,
     "metadata": {},
     "output_type": "execute_result"
    }
   ],
   "source": [
    "#ARGMIN                >>  \"Argmin returns the index of the minimum value in an array \"\n",
    "np.argmin(x)"
   ]
  },
  {
   "cell_type": "code",
   "execution_count": 7,
   "id": "883708cf-28fb-4a18-9ed5-ae9962dc44ff",
   "metadata": {},
   "outputs": [
    {
     "data": {
      "text/plain": [
       "6.0"
      ]
     },
     "execution_count": 7,
     "metadata": {},
     "output_type": "execute_result"
    }
   ],
   "source": [
    "#MEDIAN                >> \"function that calculates the median of an array\"\n",
    "np.median(x)"
   ]
  },
  {
   "cell_type": "code",
   "execution_count": 8,
   "id": "b5248186-00ae-4b2f-bab4-c08b0315e32b",
   "metadata": {},
   "outputs": [
    {
     "data": {
      "text/plain": [
       "15.0"
      ]
     },
     "execution_count": 8,
     "metadata": {},
     "output_type": "execute_result"
    }
   ],
   "source": [
    "#MEAN                >> \"function that calculates the mean of an array\"\n",
    "np.mean(x)"
   ]
  },
  {
   "cell_type": "code",
   "execution_count": 10,
   "id": "70f2e377-58a0-46b0-aaec-146dae4161ce",
   "metadata": {},
   "outputs": [
    {
     "data": {
      "text/plain": [
       "20.127372185934036"
      ]
     },
     "execution_count": 10,
     "metadata": {},
     "output_type": "execute_result"
    }
   ],
   "source": [
    "#STANDARD DEVIATION    >> \"Function that calculates spread or devation\"\n",
    "np.std(x)"
   ]
  },
  {
   "cell_type": "code",
   "execution_count": 13,
   "id": "5251832d-f3b7-4e2a-b7b5-d3686116d352",
   "metadata": {},
   "outputs": [
    {
     "data": {
      "text/plain": [
       "12.0"
      ]
     },
     "execution_count": 13,
     "metadata": {},
     "output_type": "execute_result"
    }
   ],
   "source": [
    "#PERCENTILE          >> \"Calculates Percentile  with given percentage value \"\n",
    "np.percentile(x,75)"
   ]
  },
  {
   "cell_type": "code",
   "execution_count": 17,
   "id": "5db8732e-780a-4a81-aebe-d2652573dd5b",
   "metadata": {},
   "outputs": [],
   "source": [
    "z=np.array([[1,2,3,4],[5,6,7,8],[9,10,11,12]])"
   ]
  },
  {
   "cell_type": "code",
   "execution_count": 18,
   "id": "85a31cb5-1aa8-4bb7-9ab3-71e54d16a1eb",
   "metadata": {},
   "outputs": [
    {
     "name": "stdout",
     "output_type": "stream",
     "text": [
      "[[ 1  2  3  4]\n",
      " [ 5  6  7  8]\n",
      " [ 9 10 11 12]]\n"
     ]
    }
   ],
   "source": [
    "print(z)"
   ]
  },
  {
   "cell_type": "code",
   "execution_count": 22,
   "id": "136aa5d9-3da1-4b27-bc65-61fc5d7abd33",
   "metadata": {},
   "outputs": [
    {
     "data": {
      "text/plain": [
       "array([10, 26, 42])"
      ]
     },
     "execution_count": 22,
     "metadata": {},
     "output_type": "execute_result"
    }
   ],
   "source": [
    "#AXIS ADDITION         >> \"Horizontal axis addition\"\n",
    "np.sum(z,axis=1)"
   ]
  },
  {
   "cell_type": "code",
   "execution_count": 23,
   "id": "e3d82224-d714-4a4a-b6d0-7edc2769f111",
   "metadata": {},
   "outputs": [
    {
     "data": {
      "text/plain": [
       "array([15, 18, 21, 24])"
      ]
     },
     "execution_count": 23,
     "metadata": {},
     "output_type": "execute_result"
    }
   ],
   "source": [
    "#AXIS ADDITION         >> \"Vertical axis addition\"\n",
    "np.sum(z,axis=0)"
   ]
  },
  {
   "cell_type": "code",
   "execution_count": null,
   "id": "f39f52a5-bb1d-4df4-a982-807c4a72ca7c",
   "metadata": {},
   "outputs": [],
   "source": []
  }
 ],
 "metadata": {
  "kernelspec": {
   "display_name": "Python 3 (ipykernel)",
   "language": "python",
   "name": "python3"
  },
  "language_info": {
   "codemirror_mode": {
    "name": "ipython",
    "version": 3
   },
   "file_extension": ".py",
   "mimetype": "text/x-python",
   "name": "python",
   "nbconvert_exporter": "python",
   "pygments_lexer": "ipython3",
   "version": "3.12.0"
  }
 },
 "nbformat": 4,
 "nbformat_minor": 5
}
