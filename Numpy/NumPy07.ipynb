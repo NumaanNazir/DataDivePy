{
 "cells": [
  {
   "cell_type": "markdown",
   "id": "50e39971-b83a-43da-81ed-7676b3f56ef4",
   "metadata": {},
   "source": [
    "                                                   FLATTENING"
   ]
  },
  {
   "cell_type": "code",
   "execution_count": 3,
   "id": "0f592e88-21af-4393-81aa-bf3fde33b710",
   "metadata": {},
   "outputs": [
    {
     "name": "stdout",
     "output_type": "stream",
     "text": [
      "[[1 2 3]\n",
      " [4 5 6]]\n"
     ]
    }
   ],
   "source": [
    "#CREATING 2x3 ARRAY\n",
    "\n",
    "import numpy as np\n",
    "\n",
    "a=np.array([[1,2,3],[4,5,6]])\n",
    "\n",
    "print(a)"
   ]
  },
  {
   "cell_type": "code",
   "execution_count": 5,
   "id": "764b29e1-b36d-4065-80ef-1f9d541ac614",
   "metadata": {},
   "outputs": [
    {
     "name": "stdout",
     "output_type": "stream",
     "text": [
      "[1 2 3 4 5 6]\n"
     ]
    }
   ],
   "source": [
    "#RAVEL    >>  \"Join array in single dimension\"\n",
    "\n",
    "x_1=np.ravel(a)\n",
    "\n",
    "print(x_1)"
   ]
  },
  {
   "cell_type": "code",
   "execution_count": 6,
   "id": "495cbd5b-93b2-41b3-bb0f-7e6062062730",
   "metadata": {},
   "outputs": [
    {
     "name": "stdout",
     "output_type": "stream",
     "text": [
      "[[1 4]\n",
      " [2 5]\n",
      " [3 6]]\n"
     ]
    }
   ],
   "source": [
    "#TRANSPOSE \n",
    "\n",
    "x_2=a.T\n",
    "\n",
    "\n",
    "print(x_2)"
   ]
  },
  {
   "cell_type": "code",
   "execution_count": 13,
   "id": "ba320188-0fd2-4006-8a42-53a1468013ed",
   "metadata": {},
   "outputs": [
    {
     "name": "stdout",
     "output_type": "stream",
     "text": [
      "(2, 3)\n",
      "\n",
      "[[1 2]\n",
      " [3 4]\n",
      " [5 6]]\n"
     ]
    }
   ],
   "source": [
    "#RESHAPE\n",
    "\n",
    "x_3=a.shape\n",
    "\n",
    "x_4=a.reshape(3,2)\n",
    "\n",
    "print(x_3)\n",
    "\n",
    "print()\n",
    "\n",
    "print(x_4)"
   ]
  },
  {
   "cell_type": "code",
   "execution_count": 38,
   "id": "9e481fee-4fb3-4b66-9536-57fe25af87db",
   "metadata": {},
   "outputs": [],
   "source": [
    "#ALTERING EXISTING ARRAY\n",
    "a_01=np.array([[1,2,3],[4,5,6]])\n",
    "\n",
    "a_01[0,0]=9\n",
    "\n"
   ]
  },
  {
   "cell_type": "code",
   "execution_count": 39,
   "id": "ae10695a-3b5b-4e2b-afc3-eed6f2401d48",
   "metadata": {},
   "outputs": [
    {
     "name": "stdout",
     "output_type": "stream",
     "text": [
      "[[9 2 3]\n",
      " [4 5 6]]\n"
     ]
    }
   ],
   "source": [
    "print(a_01)"
   ]
  },
  {
   "cell_type": "code",
   "execution_count": 47,
   "id": "4f615ece-8bea-4049-9816-fb6056a3c745",
   "metadata": {},
   "outputs": [
    {
     "name": "stdout",
     "output_type": "stream",
     "text": [
      "[22 45  3  9 12  1 23]\n",
      "\n"
     ]
    },
    {
     "data": {
      "text/plain": [
       "array([5, 2, 3, 4, 0, 6, 1], dtype=int64)"
      ]
     },
     "execution_count": 47,
     "metadata": {},
     "output_type": "execute_result"
    }
   ],
   "source": [
    "#ARGSORT    >> \"Sort's in asc order by index\"\n",
    "\n",
    "z=np.array([22,45,3,9,12,1,23])\n",
    "\n",
    "print(z)\n",
    "\n",
    "print()\n",
    "\n",
    "np.argsort(z)"
   ]
  },
  {
   "cell_type": "code",
   "execution_count": 55,
   "id": "6ca3effc-7dd3-4641-9800-4de13fa0c1df",
   "metadata": {},
   "outputs": [
    {
     "name": "stdout",
     "output_type": "stream",
     "text": [
      "[0 1 2 3 4 5 6 7 8 9 0 0 0 0 0 0 0 0 0 0]\n"
     ]
    }
   ],
   "source": [
    "# RESIZE\n",
    "\n",
    "y=np.arange(0,10)\n",
    "\n",
    "y.resize(20,)\n",
    "\n",
    "print(y)"
   ]
  },
  {
   "cell_type": "code",
   "execution_count": null,
   "id": "53fc767e-3784-4fce-af2d-44d768d83911",
   "metadata": {},
   "outputs": [],
   "source": []
  }
 ],
 "metadata": {
  "kernelspec": {
   "display_name": "Python 3 (ipykernel)",
   "language": "python",
   "name": "python3"
  },
  "language_info": {
   "codemirror_mode": {
    "name": "ipython",
    "version": 3
   },
   "file_extension": ".py",
   "mimetype": "text/x-python",
   "name": "python",
   "nbconvert_exporter": "python",
   "pygments_lexer": "ipython3",
   "version": "3.12.0"
  }
 },
 "nbformat": 4,
 "nbformat_minor": 5
}
